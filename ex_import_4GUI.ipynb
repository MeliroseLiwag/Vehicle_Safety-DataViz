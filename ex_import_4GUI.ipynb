{
 "cells": [
  {
   "cell_type": "code",
   "execution_count": 4,
   "metadata": {},
   "outputs": [],
   "source": [
    "import csv as csv\n",
    "import numpy as np\n",
    "import pandas as pd\n",
    "import matplotlib as mpl\n",
    "import matplotlib.pyplot as plt\n",
    "from c_online_linear_regression import getData, reaggregate, lookupSales, linear_regress\n",
    "\n"
   ]
  },
  {
   "cell_type": "code",
   "execution_count": 5,
   "metadata": {},
   "outputs": [
    {
     "name": "stdout",
     "output_type": "stream",
     "text": [
      "year 2005 of sales 431703 used\n",
      "normalized annual fatality rate of 82.89930528136165\n"
     ]
    }
   ],
   "source": [
    "# no further aggregation, i.e. specific YMM\n",
    "# 1999 Toyota (49) Camry (40)\n",
    "dfMasterCrashAgg, dfSales = getData()\n",
    "\n",
    "year, sales = lookupSales(dfSales, Sales_Year=1999, Make_ID=49, Model_ID=40, verbose=False)\n",
    "_,_, fatality = linear_regress(dfMasterCrashAgg,'toyota' , \"MOD_YEAR==1999 and Make_ID==49 and Model_ID==40 \"\n",
    "                               , denom=sales, showPlot=False)     \n",
    "print(f'year {year} of sales {sales} used')\n",
    "print(f'normalized annual fatality rate of {fatality}')"
   ]
  },
  {
   "cell_type": "code",
   "execution_count": 6,
   "metadata": {},
   "outputs": [
    {
     "name": "stdout",
     "output_type": "stream",
     "text": [
      "year None of sales 6518601 used\n",
      "normalized annual fatality rate of 10.626931648786922\n"
     ]
    }
   ],
   "source": [
    "# All model years, Toyota (49) Camry (40)\n",
    "dfMasterCrashAgg, dfSales = getData()\n",
    "\n",
    "year, sales = lookupSales(dfSales, Sales_Year=None, Make_ID=49, Model_ID=40, verbose=False)\n",
    "\n",
    "dfagg2 = reaggregate(dfMasterCrashAgg, groupBy=['Make_ID', 'Model_ID', 'ACC_YEAR'])\n",
    "\n",
    "_,_, fatality = linear_regress(dfagg2,'all-model-year toyota camries' , \"Make_ID==49 and Model_ID==40 \"\n",
    "                               , denom=sales, showPlot=False)     \n",
    "print(f'year {year} of sales {sales} used')\n",
    "print(f'normalized annual fatality rate of {fatality}')"
   ]
  },
  {
   "cell_type": "code",
   "execution_count": 7,
   "metadata": {},
   "outputs": [
    {
     "name": "stdout",
     "output_type": "stream",
     "text": [
      "year 2010 of sales 1488588 used\n",
      "normalized annual fatality rate of 30.962055041252825\n"
     ]
    }
   ],
   "source": [
    "# 2010, Toyota (49) All models\n",
    "dfMasterCrashAgg, dfSales = getData()\n",
    "\n",
    "year, sales = lookupSales(dfSales, Sales_Year=2010, Make_ID=49, Model_ID=None, verbose=False)\n",
    "\n",
    "dfagg2 = reaggregate(dfMasterCrashAgg, groupBy=['MOD_YEAR', 'Make_ID', 'ACC_YEAR'])\n",
    "\n",
    "_,_, fatality = linear_regress(dfagg2,'2010 toyota all models' , \"MOD_YEAR==2010 and Make_ID==49\"\n",
    "                               , denom=sales, showPlot=False)     \n",
    "print(f'year {year} of sales {sales} used')\n",
    "print(f'normalized annual fatality rate of {fatality}')"
   ]
  },
  {
   "cell_type": "code",
   "execution_count": 8,
   "metadata": {},
   "outputs": [
    {
     "name": "stdout",
     "output_type": "stream",
     "text": [
      "year None of sales 32213874 used\n",
      "normalized annual fatality rate of 10.010609698183544\n"
     ]
    }
   ],
   "source": [
    "# All model years, Toyota (49) All models\n",
    "dfMasterCrashAgg, dfSales = getData()\n",
    "\n",
    "year, sales = lookupSales(dfSales, Sales_Year=None, Make_ID=49, Model_ID=None, verbose=False)\n",
    "\n",
    "dfagg2 = reaggregate(dfMasterCrashAgg, groupBy=['Make_ID', 'ACC_YEAR'])\n",
    "\n",
    "_,_, fatality = linear_regress(dfagg2,'toyota all models all years' , \"Make_ID==49\"\n",
    "                               , denom=sales, showPlot=False)     \n",
    "print(f'year {year} of sales {sales} used')\n",
    "print(f'normalized annual fatality rate of {fatality}')"
   ]
  },
  {
   "cell_type": "code",
   "execution_count": 11,
   "metadata": {},
   "outputs": [
    {
     "data": {
      "image/png": "[encoded data removed]",
      "text/plain": [
       "<Figure size 432x288 with 1 Axes>"
      ]
     },
     "metadata": {
      "needs_background": "light"
     },
     "output_type": "display_data"
    },
    {
     "name": "stdout",
     "output_type": "stream",
     "text": [
      "toyota all models all years\n",
      "Slope 2.9125145464770554 intercept -5815.018483255927\n",
      "Initial fatality rate is 10.010609698183544 per year\n",
      "year None of sales 32213874 used\n",
      "normalized annual fatality rate of 10.010609698183544\n"
     ]
    }
   ],
   "source": [
    "# With Chart\n",
    "# All model years, Toyota (49) All models\n",
    "dfMasterCrashAgg, dfSales = getData()\n",
    "\n",
    "year, sales = lookupSales(dfSales, Sales_Year=None, Make_ID=49, Model_ID=None, verbose=False)\n",
    "\n",
    "dfagg2 = reaggregate(dfMasterCrashAgg, groupBy=['Make_ID', 'ACC_YEAR'])\n",
    "\n",
    "_,_, fatality = linear_regress(dfagg2,'toyota all models all years' , \"Make_ID==49\"\n",
    "                               , denom=sales, showPlot=True)     \n",
    "print(f'year {year} of sales {sales} used')\n",
    "print(f'normalized annual fatality rate of {fatality}')"
   ]
  },
  {
   "cell_type": "code",
   "execution_count": null,
   "metadata": {
    "scrolled": false
   },
   "outputs": [],
   "source": []
  }
 ],
 "metadata": {
  "kernelspec": {
   "display_name": "Python 3",
   "language": "python",
   "name": "python3"
  },
  "language_info": {
   "codemirror_mode": {
    "name": "ipython",
    "version": 3
   },
   "file_extension": ".py",
   "mimetype": "text/x-python",
   "name": "python",
   "nbconvert_exporter": "python",
   "pygments_lexer": "ipython3",
   "version": "3.8.3"
  }
 },
 "nbformat": 4,
 "nbformat_minor": 4
}
