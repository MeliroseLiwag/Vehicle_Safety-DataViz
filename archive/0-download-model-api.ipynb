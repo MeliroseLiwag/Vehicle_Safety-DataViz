{
 "cells": [
  {
   "cell_type": "code",
   "execution_count": 25,
   "metadata": {},
   "outputs": [
    {
     "name": "stdout",
     "output_type": "stream",
     "text": [
      "2020 success 18/04/2022 22:02:02\n",
      "success: 18/04/2022 22:02:03 2020 54 Acura\n"
     ]
    }
   ],
   "source": [
    "import requests\n",
    "import csv\n",
    "from datetime import datetime\n",
    "import os\n",
    "import pandas as pd\n",
    "dir = 'NHTSA-FARS-download/'\n",
    "\n",
    "\n",
    "# # Download from \"make\" API, which returns same data from 2010-2020 (except 2010 & 2011 had 2 fewer rows), and that pre-2010 gives errors.\n",
    "year=2020\n",
    "file = f'{dir}make{year}.csv'\n",
    "\n",
    "urlMakes = f\"https://crashviewer.nhtsa.dot.gov/CrashAPI/definitions/GetVariableAttributes?variable=make&caseYear={year}&format=csv\"\n",
    "r = requests.get(urlMakes, allow_redirects=True)\n",
    "open(file, 'wb').write(r.content)\n",
    "\n",
    "print(year, 'success', datetime.now().strftime(\"%d/%m/%Y %H:%M:%S\"))\n",
    "\n",
    "makes = csv.reader( open(file,'r'))\n",
    "next(makes)     #skip header row\n",
    "\n",
    "for [makeID, make, _, _] in makes:\n",
    "    # makes when iterated through:\n",
    "    # ['id', 'text', 'from_year', 'to_year']\n",
    "    # ['54', 'Acura', '1994', '']\n",
    "    # ['31', 'Alfa Romeo', '1994', '']\n",
    "\n",
    "    # models API is also cumulative in nature, so just final year needed.\n",
    "    year=2020\n",
    "\n",
    "    try:\n",
    "        url = f\"https://crashviewer.nhtsa.dot.gov/CrashAPI/definitions/GetVariableAttributesForModel?variable=model&caseYear={year}&make={makeID}&format=csv\"\n",
    "        rModels = requests.get(url, allow_redirects=True)\n",
    "\n",
    "        # os.makedirs(dir+make, exist_ok = True)\n",
    "        make = make.replace('/','-')\n",
    "\n",
    "        with open( f\"{dir}model-lookup/{makeID}-{make}_models{year}.csv\", \"w\" ) as w:\n",
    "\n",
    "            for i in range(len(my_list)):\n",
    "                if i==0:\n",
    "                    my_list[i][2] = 'makeID'\n",
    "                else:\n",
    "                    my_list[i][2] = makeID\n",
    "\n",
    "                writer = csv.writer(w)\n",
    "                writer.writerow(my_list[i])\n",
    "        \n",
    "        print('success:', datetime.now().strftime(\"%d/%m/%Y %H:%M:%S\"), year, makeID, make)\n",
    "\n",
    "    except Exception as e:\n",
    "        print('FAILED:', datetime.now().strftime(\"%d/%m/%Y %H:%M:%S\"), year, makeID, make, '\\n', e)\n",
    "\n",
    "    break"
   ]
  },
  {
   "cell_type": "code",
   "execution_count": 3,
   "metadata": {},
   "outputs": [
    {
     "name": "stdout",
     "output_type": "stream",
     "text": [
      "<Response [200]>\n",
      "b'id,modelname,make\\r\\n37,CL,\\r\\n41,ILX,\\r\\n31,Integra,\\r\\n32,Legend,\\r\\n421,MDX,\\r\\n43,NSX (2016 on.  For 1991-2005 see model 033.),\\r\\n33,NSX (For 1991-2005 only.  For 2016 on see model 043.),\\r\\n398,Other (automobile),\\r\\n498,Other (light truck),\\r\\n402,RDX,\\r\\n36,RL/RLX,\\r\\n38,RSX,\\r\\n401,SLX,\\r\\n35,TL,\\r\\n44,TLX,\\r\\n39,TSX,\\r\\n999,Unknown (ACURA),\\r\\n399,Unknown (automobile),\\r\\n499,Unknown (light truck),\\r\\n34,Vigor,\\r\\n40,ZDX,\\r\\n'\n"
     ]
    }
   ],
   "source": [
    "print(rModels, rModels.content, sep='\\n')"
   ]
  },
  {
   "cell_type": "code",
   "execution_count": 26,
   "metadata": {},
   "outputs": [
    {
     "name": "stdout",
     "output_type": "stream",
     "text": [
      "<class '_csv.reader'>\n"
     ]
    }
   ],
   "source": [
    "decoded_content = rModels.content.decode('utf-8')\n",
    "cr = csv.reader(decoded_content.splitlines(), delimiter=',')\n",
    "my_list = list(cr)\n",
    "\n",
    "print(type(cr))\n",
    "\n",
    "with open( f\"{dir}model-lookup/dropme.csv\", \"w\" ) as w:\n",
    "\n",
    "    for i in range(len(my_list)):\n",
    "        if i==0:\n",
    "            my_list[i][2] = 'makeID'\n",
    "        else:\n",
    "            my_list[i][2] = makeID\n",
    "    \n",
    "        writer = csv.writer(w)\n",
    "        writer.writerow(my_list[i])\n",
    "\n",
    "\n"
   ]
  },
  {
   "cell_type": "code",
   "execution_count": 38,
   "metadata": {},
   "outputs": [
    {
     "name": "stdout",
     "output_type": "stream",
     "text": [
      "<class 'str'> <class 'str'>\n",
      "[['id', 'modelname', 'make'], ['37', 'CL', ''], ['41', 'ILX', ''], ['31', 'Integra', ''], ['32', 'Legend', ''], ['421', 'MDX', ''], ['43', 'NSX (2016 on.  For 1991-2005 see model 033.)', ''], ['33', 'NSX (For 1991-2005 only.  For 2016 on see model 043.)', ''], ['398', 'Other (automobile)', ''], ['498', 'Other (light truck)', ''], ['402', 'RDX', ''], ['36', 'RL/RLX', ''], ['38', 'RSX', ''], ['401', 'SLX', ''], ['35', 'TL', ''], ['44', 'TLX', ''], ['39', 'TSX', ''], ['999', 'Unknown (ACURA)', ''], ['399', 'Unknown (automobile)', ''], ['499', 'Unknown (light truck)', ''], ['34', 'Vigor', ''], ['40', 'ZDX', '']]\n"
     ]
    }
   ],
   "source": [
    "print(type(decoded_content), type(rModels.content.decode()))\n",
    "print( list( csv.reader(decoded_content.splitlines())))\n",
    "\n",
    "\n",
    "\n",
    "\n",
    "\n",
    "\n",
    "\n",
    "\n",
    "\n",
    "\n"
   ]
  }
 ],
 "metadata": {
  "kernelspec": {
   "display_name": "Python 3",
   "language": "python",
   "name": "python3"
  },
  "language_info": {
   "codemirror_mode": {
    "name": "ipython",
    "version": 3
   },
   "file_extension": ".py",
   "mimetype": "text/x-python",
   "name": "python",
   "nbconvert_exporter": "python",
   "pygments_lexer": "ipython3",
   "version": "3.8.3"
  }
 },
 "nbformat": 4,
 "nbformat_minor": 4
}
